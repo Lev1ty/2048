{
 "cells": [
  {
   "cell_type": "code",
   "execution_count": 8,
   "metadata": {
    "collapsed": true
   },
   "outputs": [
    {
     "name": "stdout",
     "output_type": "stream",
     "text": [
      "Using matplotlib backend: agg\n"
     ]
    }
   ],
   "source": [
    "import functools\n",
    "import matplotlib\n",
    "%matplotlib\n",
    "import jax\n",
    "import jax.lax as lax\n",
    "import jax.ops\n",
    "import jax.numpy as np\n",
    "import toolz\n",
    "import tqdm\n",
    "\n",
    "from IPython.core.display import display"
   ]
  },
  {
   "cell_type": "code",
   "execution_count": 2,
   "outputs": [
    {
     "data": {
      "text/plain": "GpuDevice(id=0, process_index=0)"
     },
     "metadata": {},
     "output_type": "display_data"
    },
    {
     "data": {
      "text/plain": "GpuDevice(id=1, process_index=0)"
     },
     "metadata": {},
     "output_type": "display_data"
    },
    {
     "data": {
      "text/plain": "GpuDevice(id=2, process_index=0)"
     },
     "metadata": {},
     "output_type": "display_data"
    },
    {
     "data": {
      "text/plain": "GpuDevice(id=3, process_index=0)"
     },
     "metadata": {},
     "output_type": "display_data"
    },
    {
     "data": {
      "text/plain": "GpuDevice(id=4, process_index=0)"
     },
     "metadata": {},
     "output_type": "display_data"
    },
    {
     "data": {
      "text/plain": "GpuDevice(id=5, process_index=0)"
     },
     "metadata": {},
     "output_type": "display_data"
    },
    {
     "data": {
      "text/plain": "GpuDevice(id=6, process_index=0)"
     },
     "metadata": {},
     "output_type": "display_data"
    },
    {
     "data": {
      "text/plain": "GpuDevice(id=7, process_index=0)"
     },
     "metadata": {},
     "output_type": "display_data"
    }
   ],
   "source": [
    "display(*jax.devices())"
   ],
   "metadata": {
    "collapsed": false,
    "pycharm": {
     "name": "#%%\n"
    }
   }
  },
  {
   "cell_type": "code",
   "execution_count": 3,
   "outputs": [
    {
     "data": {
      "text/plain": "DeviceArray([[1, 1],\n             [1, 1]], dtype=bfloat16)"
     },
     "metadata": {},
     "output_type": "display_data"
    },
    {
     "data": {
      "text/plain": "GpuDevice(id=0, process_index=0)"
     },
     "metadata": {},
     "output_type": "display_data"
    }
   ],
   "source": [
    "x = np.ones((2, 2), dtype=np.bfloat16)\n",
    "display(x, x.device())\n",
    "del x"
   ],
   "metadata": {
    "collapsed": false,
    "pycharm": {
     "name": "#%%\n"
    }
   }
  },
  {
   "cell_type": "code",
   "execution_count": 4,
   "outputs": [
    {
     "data": {
      "text/plain": "DeviceArray([[0, 0, 0, 0],\n             [0, 0, 0, 0],\n             [0, 0, 0, 0],\n             [0, 0, 0, 0]], dtype=bfloat16)"
     },
     "metadata": {},
     "output_type": "display_data"
    },
    {
     "data": {
      "text/plain": "GpuDevice(id=0, process_index=0)"
     },
     "metadata": {},
     "output_type": "display_data"
    }
   ],
   "source": [
    "def make_new_board() -> np.ndarray:\n",
    "    return np.zeros((4, 4), dtype=np.bfloat16)\n",
    "\n",
    "board = make_new_board()\n",
    "display(board, board.device())\n",
    "del board"
   ],
   "metadata": {
    "collapsed": false,
    "pycharm": {
     "name": "#%%\n"
    }
   }
  },
  {
   "cell_type": "code",
   "execution_count": 5,
   "outputs": [
    {
     "data": {
      "text/plain": "DeviceArray([[0, 0, 1, 0],\n             [0, 0, 0, 0],\n             [0, 0, 0, 0],\n             [0, 0, 0, 0]], dtype=bfloat16)"
     },
     "metadata": {},
     "output_type": "display_data"
    },
    {
     "data": {
      "text/plain": "GpuDevice(id=0, process_index=0)"
     },
     "metadata": {},
     "output_type": "display_data"
    },
    {
     "data": {
      "text/plain": "DeviceArray([[0, 0, 0, 0],\n             [1, 0, 0, 0],\n             [0, 0, 0, 0],\n             [0, 0, 0, 0]], dtype=bfloat16)"
     },
     "metadata": {},
     "output_type": "display_data"
    },
    {
     "data": {
      "text/plain": "GpuDevice(id=0, process_index=0)"
     },
     "metadata": {},
     "output_type": "display_data"
    },
    {
     "data": {
      "text/plain": "DeviceArray([[0, 0, 0, 0],\n             [0, 0, 0, 0],\n             [0, 0, 0, 0],\n             [0, 0, 0, 1]], dtype=bfloat16)"
     },
     "metadata": {},
     "output_type": "display_data"
    },
    {
     "data": {
      "text/plain": "GpuDevice(id=0, process_index=0)"
     },
     "metadata": {},
     "output_type": "display_data"
    },
    {
     "data": {
      "text/plain": "DeviceArray([[0, 0, 0, 0],\n             [0, 0, 0, 0],\n             [1, 0, 0, 0],\n             [0, 0, 0, 0]], dtype=bfloat16)"
     },
     "metadata": {},
     "output_type": "display_data"
    },
    {
     "data": {
      "text/plain": "GpuDevice(id=0, process_index=0)"
     },
     "metadata": {},
     "output_type": "display_data"
    },
    {
     "data": {
      "text/plain": "DeviceArray([[0, 0, 0, 0],\n             [0, 0, 0, 0],\n             [0, 0, 1, 0],\n             [0, 0, 0, 0]], dtype=bfloat16)"
     },
     "metadata": {},
     "output_type": "display_data"
    },
    {
     "data": {
      "text/plain": "GpuDevice(id=0, process_index=0)"
     },
     "metadata": {},
     "output_type": "display_data"
    },
    {
     "data": {
      "text/plain": "DeviceArray([[0, 0, 0, 0],\n             [0, 0, 0, 0],\n             [0, 0, 0, 0],\n             [0, 0, 2, 0]], dtype=bfloat16)"
     },
     "metadata": {},
     "output_type": "display_data"
    },
    {
     "data": {
      "text/plain": "GpuDevice(id=0, process_index=0)"
     },
     "metadata": {},
     "output_type": "display_data"
    },
    {
     "data": {
      "text/plain": "DeviceArray([[0, 0, 0, 0],\n             [0, 0, 0, 0],\n             [0, 0, 0, 1],\n             [0, 0, 0, 0]], dtype=bfloat16)"
     },
     "metadata": {},
     "output_type": "display_data"
    },
    {
     "data": {
      "text/plain": "GpuDevice(id=0, process_index=0)"
     },
     "metadata": {},
     "output_type": "display_data"
    },
    {
     "data": {
      "text/plain": "DeviceArray([[0, 0, 0, 0],\n             [0, 0, 2, 0],\n             [0, 0, 0, 0],\n             [0, 0, 0, 0]], dtype=bfloat16)"
     },
     "metadata": {},
     "output_type": "display_data"
    },
    {
     "data": {
      "text/plain": "GpuDevice(id=0, process_index=0)"
     },
     "metadata": {},
     "output_type": "display_data"
    }
   ],
   "source": [
    "class FullBoard(Exception): pass\n",
    "_spawn_on_board_values = np.array([1, 2], dtype=np.bfloat16)\n",
    "_spawn_on_board_value_weights = np.array([.9, .1], dtype=np.bfloat16)\n",
    "def spawn_on_board(key: jax.random.PRNGKey, board: np.ndarray) -> np.ndarray:\n",
    "    zero_index = np.argwhere(board == 0)\n",
    "    index_key, value_key = jax.random.split(key)\n",
    "    index_range = np.arange(0, zero_index.shape[0], dtype=np.int8)\n",
    "    try:\n",
    "        index_choice = jax.random.choice(index_key, index_range)\n",
    "    except ValueError as error:\n",
    "        raise FullBoard from error\n",
    "    value = jax.random.choice(value_key, _spawn_on_board_values, p=_spawn_on_board_value_weights)\n",
    "    return board.at[tuple(zero_index[index_choice])].set(value)\n",
    "\n",
    "key = jax.random.PRNGKey(42)\n",
    "board = make_new_board()\n",
    "for _ in range(8):\n",
    "    key, _key = jax.random.split(key)\n",
    "    old_board = board.copy()\n",
    "    board = spawn_on_board(_key, board)\n",
    "    display(board - old_board, board.device())\n",
    "del key, old_board, board"
   ],
   "metadata": {
    "collapsed": false,
    "pycharm": {
     "name": "#%%\n"
    }
   }
  },
  {
   "cell_type": "code",
   "execution_count": 14,
   "outputs": [
    {
     "data": {
      "text/plain": "array([ 638618775, 1958792388], dtype=uint32)"
     },
     "metadata": {},
     "output_type": "display_data"
    },
    {
     "data": {
      "text/plain": "DeviceArray([[1, 2, 3, 1],\n             [0, 2, 3, 1],\n             [0, 0, 2, 4],\n             [2, 1, 2, 4]], dtype=bfloat16)"
     },
     "metadata": {},
     "output_type": "display_data"
    },
    {
     "data": {
      "text/plain": "45"
     },
     "metadata": {},
     "output_type": "display_data"
    },
    {
     "data": {
      "text/plain": "<Figure size 900x220 with 1 Axes>",
      "image/png": "[encoded data removed]"
     },
     "metadata": {},
     "output_type": "display_data"
    }
   ],
   "source": [
    "def collect_north(board: np.ndarray) -> (np.ndarray, int):\n",
    "    def collect_vector(vector: np.ndarray) -> (np.ndarray, int):\n",
    "        reward = 0\n",
    "        nonzero = vector[vector != 0]\n",
    "        for index in range(nonzero.size):\n",
    "            value = nonzero[index]\n",
    "            if value == 0: continue\n",
    "            next_index = index + 1\n",
    "            if next_index >= nonzero.size: continue\n",
    "            if value == nonzero[next_index]:\n",
    "                nonzero = nonzero.at[index].set(value + 1)\n",
    "                nonzero = nonzero.at[next_index].set(0)\n",
    "                reward += 1\n",
    "        nonzero = nonzero[nonzero != 0]\n",
    "        return np.concatenate((nonzero, np.zeros(vector.size - nonzero.size))), reward\n",
    "    reward = 0\n",
    "    for index in range(board.size):\n",
    "        _board, _reward = collect_vector(board[:, index])\n",
    "        board = board.at[:, index].set(_board)\n",
    "        reward += _reward\n",
    "    return board, reward\n",
    "\n",
    "def collect_south(board: np.ndarray) -> (np.ndarray, int):\n",
    "    board, reward = collect_north(np.flip(board, axis=0))\n",
    "    return np.flip(board, axis=0), reward\n",
    "\n",
    "def collect_east(board: np.ndarray) -> (np.ndarray, int):\n",
    "    board, reward = collect_north(np.rot90(board, axes=(0, 1)))\n",
    "    return np.rot90(board, axes=(1, 0)), reward\n",
    "\n",
    "def collect_west(board: np.ndarray) -> (np.ndarray, int):\n",
    "    board, reward = collect_north(np.rot90(board, axes=(1, 0)))\n",
    "    return np.rot90(board, axes=(0, 1)), reward\n",
    "\n",
    "key = jax.random.PRNGKey(42)\n",
    "board = make_new_board()\n",
    "for _ in range(2):\n",
    "    key, _key = jax.random.split(key)\n",
    "    board = spawn_on_board(_key, board)\n",
    "def dynamics(key: jax.random.PRNGKey, board: np.ndarray) -> (jax.random.PRNGKey, np.ndarray, int):\n",
    "    key, _key = jax.random.split(key)\n",
    "    board = spawn_on_board(_key, board)\n",
    "    board, reward = collect_east(board)\n",
    "    return key, board, reward\n",
    "reward = 0\n",
    "for _ in tqdm.tgrange(32):\n",
    "    try:\n",
    "        key, board, _reward = dynamics(key, board)\n",
    "    except FullBoard:\n",
    "        break\n",
    "    reward += _reward\n",
    "display(key, board, reward)\n",
    "del key, board, reward\n"
   ],
   "metadata": {
    "collapsed": false,
    "pycharm": {
     "name": "#%%\n"
    }
   }
  }
 ],
 "metadata": {
  "kernelspec": {
   "display_name": "Python 3",
   "language": "python",
   "name": "python3"
  },
  "language_info": {
   "codemirror_mode": {
    "name": "ipython",
    "version": 2
   },
   "file_extension": ".py",
   "mimetype": "text/x-python",
   "name": "python",
   "nbconvert_exporter": "python",
   "pygments_lexer": "ipython2",
   "version": "2.7.6"
  }
 },
 "nbformat": 4,
 "nbformat_minor": 0
}